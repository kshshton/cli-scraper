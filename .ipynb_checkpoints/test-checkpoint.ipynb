{
 "cells": [
  {
   "cell_type": "code",
   "execution_count": null,
   "metadata": {},
   "outputs": [],
   "source": [
    "import requests\n",
    "from bs4 import BeautifulSoup as soup"
   ]
  },
  {
   "cell_type": "code",
   "execution_count": null,
   "metadata": {},
   "outputs": [],
   "source": [
    "class Scraper:\n",
    "    pages = {}\n",
    "\n",
    "\n",
    "    def add_page_by_url(self, url: str) -> None:\n",
    "        self.pages[len(self.pages) + 1] = url\n",
    "\n",
    "\n",
    "    def list_of_pages(self) -> None:\n",
    "        for index, url in self.pages.items():\n",
    "            print(f'{index}: {url}')\n",
    "\n",
    "\n",
    "    def expand_html_page(self, key: int) -> None:\n",
    "        if key in self.pages.keys():\n",
    "            html = requests.get(self.pages[key]).text\n",
    "            print(soup(html, 'html.parser').prettify())\n",
    "\n",
    "\n",
    "    def search_on_page(self, key: int) -> None:\n",
    "        if key in self.pages.keys():\n",
    "            html = requests.get(self.pages[key]).text\n",
    "            target = soup(html, 'html.parser')\n",
    "            tag = input('Write tag name: ')\n",
    "            "
   ]
  },
  {
   "cell_type": "code",
   "execution_count": null,
   "metadata": {},
   "outputs": [],
   "source": [
    "robot = Scraper()\n",
    "robot.list_of_pages()"
   ]
  }
 ],
 "metadata": {
  "kernelspec": {
   "display_name": "Python 3 (ipykernel)",
   "language": "python",
   "name": "python3"
  },
  "language_info": {
   "codemirror_mode": {
    "name": "ipython",
    "version": 3
   },
   "file_extension": ".py",
   "mimetype": "text/x-python",
   "name": "python",
   "nbconvert_exporter": "python",
   "pygments_lexer": "ipython3",
   "version": "3.10.7"
  }
 },
 "nbformat": 4,
 "nbformat_minor": 2
}
